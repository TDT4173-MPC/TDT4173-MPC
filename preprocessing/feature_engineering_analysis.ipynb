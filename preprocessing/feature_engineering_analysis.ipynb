{
 "cells": [
  {
   "cell_type": "code",
   "execution_count": 71,
   "metadata": {},
   "outputs": [],
   "source": [
    "import pandas as pd"
   ]
  },
  {
   "cell_type": "code",
   "execution_count": 72,
   "metadata": {},
   "outputs": [],
   "source": [
    "df = pd.read_csv('../feature_engineering_analysis.csv')"
   ]
  },
  {
   "cell_type": "code",
   "execution_count": 73,
   "metadata": {},
   "outputs": [
    {
     "data": {
      "text/html": [
       "<div>\n",
       "<style scoped>\n",
       "    .dataframe tbody tr th:only-of-type {\n",
       "        vertical-align: middle;\n",
       "    }\n",
       "\n",
       "    .dataframe tbody tr th {\n",
       "        vertical-align: top;\n",
       "    }\n",
       "\n",
       "    .dataframe thead th {\n",
       "        text-align: right;\n",
       "    }\n",
       "</style>\n",
       "<table border=\"1\" class=\"dataframe\">\n",
       "  <thead>\n",
       "    <tr style=\"text-align: right;\">\n",
       "      <th></th>\n",
       "      <th>Feature</th>\n",
       "      <th>MAE_Original</th>\n",
       "      <th>MAE_Squared</th>\n",
       "      <th>Importance_Original</th>\n",
       "      <th>Importance_Squared</th>\n",
       "    </tr>\n",
       "  </thead>\n",
       "  <tbody>\n",
       "    <tr>\n",
       "      <th>0</th>\n",
       "      <td>temp_dew_point_diff:K</td>\n",
       "      <td>187.780163</td>\n",
       "      <td>187.848765</td>\n",
       "      <td>0.003915</td>\n",
       "      <td>0.002222</td>\n",
       "    </tr>\n",
       "  </tbody>\n",
       "</table>\n",
       "</div>"
      ],
      "text/plain": [
       "                 Feature  MAE_Original  MAE_Squared  Importance_Original  \\\n",
       "0  temp_dew_point_diff:K    187.780163   187.848765             0.003915   \n",
       "\n",
       "   Importance_Squared  \n",
       "0            0.002222  "
      ]
     },
     "execution_count": 73,
     "metadata": {},
     "output_type": "execute_result"
    }
   ],
   "source": [
    "# Squared values\n",
    "\n",
    "# Sorting MAE_Squared values in descending order\n",
    "df.sort_values(by=['MAE_Squared'], inplace=True, ascending=True)\n",
    "\n",
    "# Printing the first 10 rows of the sorted DataFrame, but only 'Feature' and 'MAE_Squared' columns\n",
    "df[['Feature', 'MAE_Original', 'MAE_Squared', 'Importance_Original', 'Importance_Squared']].head(10)\n"
   ]
  },
  {
   "cell_type": "code",
   "execution_count": 74,
   "metadata": {},
   "outputs": [
    {
     "data": {
      "text/html": [
       "<div>\n",
       "<style scoped>\n",
       "    .dataframe tbody tr th:only-of-type {\n",
       "        vertical-align: middle;\n",
       "    }\n",
       "\n",
       "    .dataframe tbody tr th {\n",
       "        vertical-align: top;\n",
       "    }\n",
       "\n",
       "    .dataframe thead th {\n",
       "        text-align: right;\n",
       "    }\n",
       "</style>\n",
       "<table border=\"1\" class=\"dataframe\">\n",
       "  <thead>\n",
       "    <tr style=\"text-align: right;\">\n",
       "      <th></th>\n",
       "      <th>Feature</th>\n",
       "      <th>MAE_Original</th>\n",
       "      <th>MAE_Cubed</th>\n",
       "      <th>Importance_Original</th>\n",
       "      <th>Importance_Cubed</th>\n",
       "    </tr>\n",
       "  </thead>\n",
       "  <tbody>\n",
       "    <tr>\n",
       "      <th>0</th>\n",
       "      <td>temp_dew_point_diff:K</td>\n",
       "      <td>187.780163</td>\n",
       "      <td>187.842317</td>\n",
       "      <td>0.003915</td>\n",
       "      <td>0.002177</td>\n",
       "    </tr>\n",
       "  </tbody>\n",
       "</table>\n",
       "</div>"
      ],
      "text/plain": [
       "                 Feature  MAE_Original   MAE_Cubed  Importance_Original  \\\n",
       "0  temp_dew_point_diff:K    187.780163  187.842317             0.003915   \n",
       "\n",
       "   Importance_Cubed  \n",
       "0          0.002177  "
      ]
     },
     "execution_count": 74,
     "metadata": {},
     "output_type": "execute_result"
    }
   ],
   "source": [
    "# Cubed values\n",
    "\n",
    "# Sorting MAE_Cubed values in descending order\n",
    "df.sort_values(by=['MAE_Cubed'], inplace=True, ascending=True)\n",
    "\n",
    "# Printing the first 10 rows of the sorted DataFrame, but only 'Feature' and 'MAE_Cubed' columns\n",
    "df[['Feature', 'MAE_Original', 'MAE_Cubed', 'Importance_Original', 'Importance_Cubed']].head(10)"
   ]
  },
  {
   "cell_type": "code",
   "execution_count": 75,
   "metadata": {},
   "outputs": [
    {
     "data": {
      "text/html": [
       "<div>\n",
       "<style scoped>\n",
       "    .dataframe tbody tr th:only-of-type {\n",
       "        vertical-align: middle;\n",
       "    }\n",
       "\n",
       "    .dataframe tbody tr th {\n",
       "        vertical-align: top;\n",
       "    }\n",
       "\n",
       "    .dataframe thead th {\n",
       "        text-align: right;\n",
       "    }\n",
       "</style>\n",
       "<table border=\"1\" class=\"dataframe\">\n",
       "  <thead>\n",
       "    <tr style=\"text-align: right;\">\n",
       "      <th></th>\n",
       "      <th>Feature</th>\n",
       "      <th>MAE_Original</th>\n",
       "      <th>MAE_SquareRoot</th>\n",
       "      <th>Importance_Original</th>\n",
       "      <th>Importance_SquareRoot</th>\n",
       "    </tr>\n",
       "  </thead>\n",
       "  <tbody>\n",
       "    <tr>\n",
       "      <th>0</th>\n",
       "      <td>temp_dew_point_diff:K</td>\n",
       "      <td>187.780163</td>\n",
       "      <td>NaN</td>\n",
       "      <td>0.003915</td>\n",
       "      <td>NaN</td>\n",
       "    </tr>\n",
       "  </tbody>\n",
       "</table>\n",
       "</div>"
      ],
      "text/plain": [
       "                 Feature  MAE_Original  MAE_SquareRoot  Importance_Original  \\\n",
       "0  temp_dew_point_diff:K    187.780163             NaN             0.003915   \n",
       "\n",
       "   Importance_SquareRoot  \n",
       "0                    NaN  "
      ]
     },
     "execution_count": 75,
     "metadata": {},
     "output_type": "execute_result"
    }
   ],
   "source": [
    "# Square root values\n",
    "\n",
    "# Sorting MAE_SquareRoot values in descending order\n",
    "df.sort_values(by=['MAE_SquareRoot'], inplace=True, ascending=True)\n",
    "\n",
    "# Printing the first 10 rows of the sorted DataFrame, but only 'Feature' and 'MAE_SquareRoot' columns\n",
    "df[['Feature', 'MAE_Original', 'MAE_SquareRoot', 'Importance_Original', 'Importance_SquareRoot']].head(10)"
   ]
  },
  {
   "cell_type": "code",
   "execution_count": 76,
   "metadata": {},
   "outputs": [
    {
     "data": {
      "text/html": [
       "<div>\n",
       "<style scoped>\n",
       "    .dataframe tbody tr th:only-of-type {\n",
       "        vertical-align: middle;\n",
       "    }\n",
       "\n",
       "    .dataframe tbody tr th {\n",
       "        vertical-align: top;\n",
       "    }\n",
       "\n",
       "    .dataframe thead th {\n",
       "        text-align: right;\n",
       "    }\n",
       "</style>\n",
       "<table border=\"1\" class=\"dataframe\">\n",
       "  <thead>\n",
       "    <tr style=\"text-align: right;\">\n",
       "      <th></th>\n",
       "      <th>Feature</th>\n",
       "      <th>MAE_Original</th>\n",
       "      <th>MAE_Normalized</th>\n",
       "      <th>Importance_Original</th>\n",
       "      <th>Importance_Normalized</th>\n",
       "    </tr>\n",
       "  </thead>\n",
       "  <tbody>\n",
       "    <tr>\n",
       "      <th>0</th>\n",
       "      <td>temp_dew_point_diff:K</td>\n",
       "      <td>187.780163</td>\n",
       "      <td>187.866846</td>\n",
       "      <td>0.003915</td>\n",
       "      <td>0.002176</td>\n",
       "    </tr>\n",
       "  </tbody>\n",
       "</table>\n",
       "</div>"
      ],
      "text/plain": [
       "                 Feature  MAE_Original  MAE_Normalized  Importance_Original  \\\n",
       "0  temp_dew_point_diff:K    187.780163      187.866846             0.003915   \n",
       "\n",
       "   Importance_Normalized  \n",
       "0               0.002176  "
      ]
     },
     "execution_count": 76,
     "metadata": {},
     "output_type": "execute_result"
    }
   ],
   "source": [
    "# Normalized values\n",
    "\n",
    "# Sorting MAE_Normalized values in descending order\n",
    "df.sort_values(by=['MAE_Normalized'], inplace=True, ascending=True)\n",
    "\n",
    "# Printing the first 10 rows of the sorted DataFrame, but only 'Feature' and 'MAE_Normalized' columns\n",
    "df[['Feature', 'MAE_Original', 'MAE_Normalized', 'Importance_Original', 'Importance_Normalized']].head(10)"
   ]
  },
  {
   "cell_type": "code",
   "execution_count": 77,
   "metadata": {},
   "outputs": [
    {
     "data": {
      "text/html": [
       "<div>\n",
       "<style scoped>\n",
       "    .dataframe tbody tr th:only-of-type {\n",
       "        vertical-align: middle;\n",
       "    }\n",
       "\n",
       "    .dataframe tbody tr th {\n",
       "        vertical-align: top;\n",
       "    }\n",
       "\n",
       "    .dataframe thead th {\n",
       "        text-align: right;\n",
       "    }\n",
       "</style>\n",
       "<table border=\"1\" class=\"dataframe\">\n",
       "  <thead>\n",
       "    <tr style=\"text-align: right;\">\n",
       "      <th></th>\n",
       "      <th>Feature</th>\n",
       "      <th>MAE_Original</th>\n",
       "      <th>MAE_Standardized</th>\n",
       "      <th>Importance_Original</th>\n",
       "      <th>Importance_Standardized</th>\n",
       "    </tr>\n",
       "  </thead>\n",
       "  <tbody>\n",
       "    <tr>\n",
       "      <th>0</th>\n",
       "      <td>temp_dew_point_diff:K</td>\n",
       "      <td>187.780163</td>\n",
       "      <td>187.866846</td>\n",
       "      <td>0.003915</td>\n",
       "      <td>0.002176</td>\n",
       "    </tr>\n",
       "  </tbody>\n",
       "</table>\n",
       "</div>"
      ],
      "text/plain": [
       "                 Feature  MAE_Original  MAE_Standardized  Importance_Original  \\\n",
       "0  temp_dew_point_diff:K    187.780163        187.866846             0.003915   \n",
       "\n",
       "   Importance_Standardized  \n",
       "0                 0.002176  "
      ]
     },
     "execution_count": 77,
     "metadata": {},
     "output_type": "execute_result"
    }
   ],
   "source": [
    "# Standardized values\n",
    "\n",
    "# Sorting MAE_Standardized values in descending order\n",
    "df.sort_values(by=['MAE_Standardized'], inplace=True, ascending=True)\n",
    "\n",
    "# Printing the first 10 rows of the sorted DataFrame, but only 'Feature' and 'MAE_Standardized' columns\n",
    "df[['Feature', 'MAE_Original', 'MAE_Standardized', 'Importance_Original', 'Importance_Standardized']].head(10)"
   ]
  },
  {
   "cell_type": "code",
   "execution_count": 78,
   "metadata": {},
   "outputs": [
    {
     "data": {
      "text/html": [
       "<div>\n",
       "<style scoped>\n",
       "    .dataframe tbody tr th:only-of-type {\n",
       "        vertical-align: middle;\n",
       "    }\n",
       "\n",
       "    .dataframe tbody tr th {\n",
       "        vertical-align: top;\n",
       "    }\n",
       "\n",
       "    .dataframe thead th {\n",
       "        text-align: right;\n",
       "    }\n",
       "</style>\n",
       "<table border=\"1\" class=\"dataframe\">\n",
       "  <thead>\n",
       "    <tr style=\"text-align: right;\">\n",
       "      <th></th>\n",
       "      <th>Feature</th>\n",
       "      <th>MAE_Original</th>\n",
       "      <th>MAE_Integral</th>\n",
       "      <th>Importance_Original</th>\n",
       "      <th>Importance_Integral</th>\n",
       "    </tr>\n",
       "  </thead>\n",
       "  <tbody>\n",
       "    <tr>\n",
       "      <th>0</th>\n",
       "      <td>temp_dew_point_diff:K</td>\n",
       "      <td>187.780163</td>\n",
       "      <td>187.921848</td>\n",
       "      <td>0.003915</td>\n",
       "      <td>0.004996</td>\n",
       "    </tr>\n",
       "  </tbody>\n",
       "</table>\n",
       "</div>"
      ],
      "text/plain": [
       "                 Feature  MAE_Original  MAE_Integral  Importance_Original  \\\n",
       "0  temp_dew_point_diff:K    187.780163    187.921848             0.003915   \n",
       "\n",
       "   Importance_Integral  \n",
       "0             0.004996  "
      ]
     },
     "execution_count": 78,
     "metadata": {},
     "output_type": "execute_result"
    }
   ],
   "source": [
    "# Integral values\n",
    "\n",
    "# Sorting MAE_Integral values in descending order\n",
    "df.sort_values(by=['MAE_Integral'], inplace=True, ascending=True)\n",
    "\n",
    "# Printing the first 10 rows of the sorted DataFrame, but only 'Feature' and 'MAE_Integral' columns\n",
    "df[['Feature', 'MAE_Original', 'MAE_Integral', 'Importance_Original', 'Importance_Integral']].head(10)"
   ]
  }
 ],
 "metadata": {
  "kernelspec": {
   "display_name": "TDT4173-MPC",
   "language": "python",
   "name": "python3"
  },
  "language_info": {
   "codemirror_mode": {
    "name": "ipython",
    "version": 3
   },
   "file_extension": ".py",
   "mimetype": "text/x-python",
   "name": "python",
   "nbconvert_exporter": "python",
   "pygments_lexer": "ipython3",
   "version": "3.11.5"
  }
 },
 "nbformat": 4,
 "nbformat_minor": 2
}
