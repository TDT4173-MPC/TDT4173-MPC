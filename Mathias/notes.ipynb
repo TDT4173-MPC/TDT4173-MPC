{
 "cells": [
  {
   "cell_type": "markdown",
   "metadata": {},
   "source": [
    "# Time Series\n",
    "\n",
    "Decomposing time series to explore trends, seasonality and residuals. We have several methods of making time-dependant models:\n",
    "\n",
    "1. **Stacking:** A pure time series model should be tested to see if it's a helpful model to stack onto other models to make a hybrid. K-fold cross validation is a nice way to get a good model. This would only be dependent on earlier pv_measurements and not features.\n",
    "\n",
    "2. **Lagged features:** Use traditional models, but use lagged features as inputs. Can use for example the last pv_measurement as an input to encode the time dependency into the model. (Keep in mind that we don't know the last measurement when testing so we would need some feedback, and use earlier predicted value as input).\n",
    "\n",
    "3. **Deep learning model:** Models like LSTM can catch on complex relationships between features and targets while still having dependencies on earlier predictions and features. \n",
    "\n",
    "4. **Feature based time series model:** ARIMA-X and Prophet are two examples of time series models that also uses features in the prediction. "
   ]
  },
  {
   "cell_type": "markdown",
   "metadata": {},
   "source": [
    "### Lagged features\n",
    "\n",
    "* Can use average of last weeks prediction as feature to capture trends."
   ]
  },
  {
   "cell_type": "markdown",
   "metadata": {},
   "source": [
    "# Observed vs. Estimated weather\n",
    "\n",
    "* Can use 'time' - 'date_calc' as a feature, but that means it can't be trained on the observed data. We can add this column to the observed data, but we would have to set it to 0 to make sure the model doesn't use it for training. \n",
    "\n",
    "* Should test different resampling methods to compensate for difference in time resolution."
   ]
  },
  {
   "cell_type": "markdown",
   "metadata": {},
   "source": [
    "# General data preprocessing\n",
    "\n",
    "- Normalize the data? Any other activation functions? Submission with 177 MAE was without normalization.\n"
   ]
  },
  {
   "cell_type": "markdown",
   "metadata": {},
   "source": [
    "# Shit list\n",
    "\n",
    "- snow_density:kgm3\n",
    "- wind_speed_w_1000hPa:ms\n",
    "- snow_melt_10min:mm\n",
    "- snow_drift:idx\n",
    "- rain_water:kgm2\n",
    "- prob_rime:p\n",
    "- precip_type_5min:idx\n",
    "- precip_5min:mm\n",
    "- fresh_snow_6h:cm\n",
    "- fresh_snow_3h:cm\n",
    "- fresh_snow_24h:cm\n",
    "- fresh_snow_1h:cm\n",
    "- fresh_snow_1h:cm\n"
   ]
  },
  {
   "cell_type": "markdown",
   "metadata": {},
   "source": [
    "# Maybe list\n",
    "\n",
    "- ceiling_height_agl:m (Set nans to 0)\n",
    "- cloud_base_agl:m has a lot of NaNs. These should be set to 0.\n",
    "- dew_or_rime:idx\n",
    "- snow_depth:cm\n",
    "\n"
   ]
  },
  {
   "cell_type": "markdown",
   "metadata": {},
   "source": [
    "# Good list\n",
    "\n",
    "- clear_sky_energy_1h:J \n",
    "- is_in_shadow:idx"
   ]
  }
 ],
 "metadata": {
  "kernelspec": {
   "display_name": "TDT4173-MPC",
   "language": "python",
   "name": "python3"
  },
  "language_info": {
   "codemirror_mode": {
    "name": "ipython",
    "version": 3
   },
   "file_extension": ".py",
   "mimetype": "text/x-python",
   "name": "python",
   "nbconvert_exporter": "python",
   "pygments_lexer": "ipython3",
   "version": "3.11.5"
  },
  "orig_nbformat": 4
 },
 "nbformat": 4,
 "nbformat_minor": 2
}
