{
 "cells": [
  {
   "cell_type": "code",
   "execution_count": 1,
   "metadata": {},
   "outputs": [],
   "source": [
    "import pandas as pd\n",
    "from sklearn.model_selection import train_test_split\n",
    "from sklearn.linear_model import LinearRegression\n",
    "from sklearn.metrics import mean_absolute_error\n",
    "from sklearn.feature_selection import SequentialFeatureSelector as SFS\n",
    "import xgboost as xgb"
   ]
  },
  {
   "cell_type": "code",
   "execution_count": 2,
   "metadata": {},
   "outputs": [],
   "source": [
    "obs_A = pd.read_parquet('../../preprocessing/data/obs_A.parquet').drop(columns='date_forecast')\n",
    "obs_B = pd.read_parquet('../../preprocessing/data/obs_B.parquet').drop(columns='date_forecast')\n",
    "obs_C = pd.read_parquet('../../preprocessing/data/obs_C.parquet').drop(columns='date_forecast')\n",
    "est_A = pd.read_parquet('../../preprocessing/data/est_A.parquet').drop(columns='date_forecast')\n",
    "est_B = pd.read_parquet('../../preprocessing/data/est_B.parquet').drop(columns='date_forecast')\n",
    "est_C = pd.read_parquet('../../preprocessing/data/est_C.parquet').drop(columns='date_forecast')\n",
    "test_A = pd.read_parquet('../../preprocessing/data/test_A.parquet').drop(columns='date_forecast')\n",
    "test_B = pd.read_parquet('../../preprocessing/data/test_B.parquet').drop(columns='date_forecast')\n",
    "test_C = pd.read_parquet('../../preprocessing/data/test_C.parquet').drop(columns='date_forecast')\n",
    "\n",
    "# Concatinate\n",
    "A = pd.concat([obs_A, est_A])\n",
    "B = pd.concat([obs_B, est_B])\n",
    "C = pd.concat([obs_C, est_C])\n",
    "\n",
    "# Data splits for submissions\n",
    "X_A = A.drop(columns='pv_measurement')\n",
    "y_A = A['pv_measurement']\n",
    "X_B = B.drop(columns='pv_measurement')\n",
    "y_B = B['pv_measurement']\n",
    "X_C = C.drop(columns='pv_measurement')\n",
    "y_C = C['pv_measurement']\n",
    "\n",
    "# Split the data\n",
    "X_train_A, X_test_A, y_train_A, y_test_A = train_test_split(X_A, y_A, test_size=0.2, random_state=42)\n",
    "X_train_B, X_test_B, y_train_B, y_test_B = train_test_split(X_B, y_B, test_size=0.2, random_state=42)\n",
    "X_train_C, X_test_C, y_train_C, y_test_C = train_test_split(X_C, y_C, test_size=0.2, random_state=42)"
   ]
  },
  {
   "cell_type": "code",
   "execution_count": 3,
   "metadata": {},
   "outputs": [],
   "source": [
    "# Initialize the xgboost model\n",
    "parameters = {\n",
    "    'colsample_bytree': 0.8, \n",
    "    'gamma': 0.8, \n",
    "    'learning_rate': 0.008, \n",
    "    'max_depth': 10, \n",
    "    'min_child_weight': 10, \n",
    "    'n_estimators': 350, \n",
    "    'reg_alpha': 1, \n",
    "    'reg_lambda': 3, \n",
    "    'subsample': 0.912,\n",
    "    'random_state': 0, \n",
    "    'booster': 'gbtree',\n",
    "    'n_jobs': -1,\n",
    "    'random_state': 42\n",
    "}\n",
    "xgb_model = xgb.XGBRegressor(**parameters)\n",
    "\n",
    "# Initialize forward selection\n",
    "sfs = SFS(estimator=xgb_model, \n",
    "          n_features_to_select='auto', \n",
    "          scoring='neg_mean_squared_error', # or another scoring function\n",
    "          cv=5,\n",
    "          direction='forward',\n",
    "          n_jobs=-1)"
   ]
  },
  {
   "cell_type": "code",
   "execution_count": 4,
   "metadata": {},
   "outputs": [],
   "source": [
    "# Perform SFS\n",
    "sfs = sfs.fit(X_A, y_A)"
   ]
  },
  {
   "cell_type": "code",
   "execution_count": 5,
   "metadata": {},
   "outputs": [
    {
     "name": "stdout",
     "output_type": "stream",
     "text": [
      "Selected features: Index(['total_radiation', 'snow_accumulation', 'average_wind_speed',\n",
      "       'clear_sky_rad:W', 'month', 't_1000hPa:C', 'effective_cloud_cover:p',\n",
      "       'hour', 'year', 'temp_dewpoint_diff'],\n",
      "      dtype='object')\n"
     ]
    }
   ],
   "source": [
    "# Assuming `sfs` is your Sequential Feature Selector object\n",
    "# and `X_train_A` is a pandas DataFrame of your training data\n",
    "\n",
    "# Get the boolean mask of the selected features\n",
    "selected_features_mask = sfs.get_support()\n",
    "\n",
    "# Get the names of the selected features\n",
    "selected_features = X_train_A.columns[selected_features_mask]\n",
    "print(f'Selected features: {selected_features}')\n",
    "\n",
    "\n",
    "\"\"\"\n",
    "Best features for A:\n",
    "\n",
    "['total_radiation', 'snow_accumulation', 'average_wind_speed',\n",
    "'clear_sky_rad:W', 'month', 't_1000hPa:C', 'effective_cloud_cover:p',\n",
    "'hour', 'year', 'temp_dewpoint_diff']\n",
    "\"\"\""
   ]
  },
  {
   "cell_type": "code",
   "execution_count": 6,
   "metadata": {},
   "outputs": [],
   "source": [
    "# Fit the model with selected features\n",
    "# xgb_model.fit(X_train_A[selected_features], y_train_A)"
   ]
  },
  {
   "cell_type": "code",
   "execution_count": 7,
   "metadata": {},
   "outputs": [],
   "source": [
    "# Evaluate the model\n",
    "# y_pred_A = xgb_model.predict(X_test_A[selected_features])\n",
    "# mae = mean_absolute_error(y_test_A, y_pred_A)\n",
    "# print(f'Test MAE: {mae}')"
   ]
  },
  {
   "cell_type": "code",
   "execution_count": 8,
   "metadata": {},
   "outputs": [],
   "source": [
    "# Initialize the xgboost model\n",
    "parameters = {\n",
    "    'colsample_bytree': 0.8, \n",
    "    'gamma': 0.8, \n",
    "    'learning_rate': 0.008, \n",
    "    'max_depth': 10, \n",
    "    'min_child_weight': 10, \n",
    "    'n_estimators': 350, \n",
    "    'reg_alpha': 1, \n",
    "    'reg_lambda': 3, \n",
    "    'subsample': 0.912,\n",
    "    'random_state': 0, \n",
    "    'booster': 'gbtree',\n",
    "    'n_jobs': -1,\n",
    "    'random_state': 42\n",
    "}\n",
    "xgb_model = xgb.XGBRegressor(**parameters)\n",
    "\n",
    "# Initialize forward selection\n",
    "sfs = SFS(estimator=xgb_model, \n",
    "          n_features_to_select='auto', \n",
    "          scoring='neg_mean_squared_error', # or another scoring function\n",
    "          cv=5,\n",
    "          direction='backward',\n",
    "          n_jobs=-1)"
   ]
  },
  {
   "cell_type": "code",
   "execution_count": 9,
   "metadata": {},
   "outputs": [],
   "source": [
    "# Perform SFS\n",
    "sfs = sfs.fit(X_A, y_A)"
   ]
  },
  {
   "cell_type": "code",
   "execution_count": 10,
   "metadata": {},
   "outputs": [
    {
     "name": "stdout",
     "output_type": "stream",
     "text": [
      "Selected features: Index(['total_radiation', 'snow_accumulation', 'average_wind_speed',\n",
      "       'clear_sky_rad:W', 't_1000hPa:C', 'effective_cloud_cover:p', 'hour',\n",
      "       'total_cloud_cover:p', 'year', 'temp_dewpoint_diff'],\n",
      "      dtype='object')\n"
     ]
    }
   ],
   "source": [
    "# Assuming `sfs` is your Sequential Feature Selector object\n",
    "# and `X_train_A` is a pandas DataFrame of your training data\n",
    "\n",
    "# Get the boolean mask of the selected features\n",
    "selected_features_mask = sfs.get_support()\n",
    "\n",
    "# Get the names of the selected features\n",
    "selected_features = X_train_A.columns[selected_features_mask]\n",
    "print(f'Selected features: {selected_features}')\n",
    "\n",
    "\"\"\"\n",
    "Best features for A:\n",
    "\n",
    "['total_radiation', 'snow_accumulation', 'average_wind_speed',\n",
    "'clear_sky_rad:W', 't_1000hPa:C', 'effective_cloud_cover:p', 'hour',\n",
    "'total_cloud_cover:p', 'year', 'temp_dewpoint_diff']\n",
    "\n",
    "\"\"\""
   ]
  },
  {
   "cell_type": "code",
   "execution_count": 11,
   "metadata": {},
   "outputs": [],
   "source": [
    "# Fit the model with selected features\n",
    "# xgb_model.fit(X_train_A[selected_features], y_train_A)"
   ]
  },
  {
   "cell_type": "code",
   "execution_count": 12,
   "metadata": {},
   "outputs": [],
   "source": [
    "# Evaluate the model\n",
    "# y_pred_A = xgb_model.predict(X_test_A[selected_features])\n",
    "# mae = mean_absolute_error(y_test_A, y_pred_A)\n",
    "# print(f'Test MAE: {mae}')"
   ]
  }
 ],
 "metadata": {
  "kernelspec": {
   "display_name": "TDT4173-MPC",
   "language": "python",
   "name": "python3"
  },
  "language_info": {
   "codemirror_mode": {
    "name": "ipython",
    "version": 3
   },
   "file_extension": ".py",
   "mimetype": "text/x-python",
   "name": "python",
   "nbconvert_exporter": "python",
   "pygments_lexer": "ipython3",
   "version": "3.11.5"
  }
 },
 "nbformat": 4,
 "nbformat_minor": 2
}
