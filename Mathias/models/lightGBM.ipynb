{
 "cells": [
  {
   "cell_type": "code",
   "execution_count": 1,
   "metadata": {},
   "outputs": [],
   "source": [
    "import pandas as pd\n",
    "import numpy as np\n",
    "import pickle\n",
    "import matplotlib.pyplot as plt\n",
    "\n",
    "from sklearn.model_selection import train_test_split\n",
    "from sklearn.metrics import mean_absolute_error\n",
    "\n",
    "import lightgbm as lgb"
   ]
  },
  {
   "cell_type": "code",
   "execution_count": 2,
   "metadata": {},
   "outputs": [],
   "source": [
    "# Import data\n",
    "obs_A = pd.read_parquet('../../preprocessing/data/obs_A.parquet').drop(columns='date_forecast')\n",
    "obs_B = pd.read_parquet('../../preprocessing/data/obs_B.parquet').drop(columns='date_forecast')\n",
    "obs_C = pd.read_parquet('../../preprocessing/data/obs_C.parquet').drop(columns='date_forecast')\n",
    "est_A = pd.read_parquet('../../preprocessing/data/est_A.parquet').drop(columns=['date_forecast', 'date_calc'])\n",
    "est_B = pd.read_parquet('../../preprocessing/data/est_B.parquet').drop(columns=['date_forecast', 'date_calc'])\n",
    "est_C = pd.read_parquet('../../preprocessing/data/est_C.parquet').drop(columns=['date_forecast', 'date_calc'])\n",
    "test_A = pd.read_parquet('../../preprocessing/data/test_A.parquet').drop(columns=['date_forecast', 'date_calc'])\n",
    "test_B = pd.read_parquet('../../preprocessing/data/test_B.parquet').drop(columns=['date_forecast', 'date_calc'])\n",
    "test_C = pd.read_parquet('../../preprocessing/data/test_C.parquet').drop(columns=['date_forecast', 'date_calc'])"
   ]
  },
  {
   "cell_type": "code",
   "execution_count": 3,
   "metadata": {},
   "outputs": [],
   "source": [
    "\n",
    "\n",
    "# Concatinate\n",
    "A = pd.concat([obs_A, est_A])\n",
    "B = pd.concat([obs_B, est_B])\n",
    "C = pd.concat([obs_C, est_C])\n",
    "\n",
    "A = A[['pv_measurement', 'absolute_humidity_2m:gm3', 'air_density_2m:kgm3',\n",
    "       'clear_sky_energy_1h:J', 'clear_sky_rad:W', 'dew_or_rime:idx',\n",
    "       'dew_point_2m:K', 'diffuse_rad:W', 'diffuse_rad_1h:J', 'direct_rad:W',\n",
    "       'direct_rad_1h:J', 'effective_cloud_cover:p', 'elevation:m',\n",
    "       'fresh_snow_12h:cm', 'fresh_snow_1h:cm', 'fresh_snow_24h:cm',\n",
    "       'fresh_snow_3h:cm', 'fresh_snow_6h:cm', 'is_day:idx',\n",
    "       'is_in_shadow:idx', 'msl_pressure:hPa', 'precip_5min:mm',\n",
    "       'precip_type_5min:idx', 'pressure_100m:hPa', 'pressure_50m:hPa',\n",
    "       'prob_rime:p', 'rain_water:kgm2', 'relative_humidity_1000hPa:p',\n",
    "       'sfc_pressure:hPa', 'snow_depth:cm', 'snow_melt_10min:mm',\n",
    "       'snow_water:kgm2', 'sun_azimuth:d', 'sun_elevation:d',\n",
    "       'super_cooled_liquid_water:kgm2', 't_1000hPa:K', 'total_cloud_cover:p',\n",
    "       'visibility:m', 'wind_speed_10m:ms', 'wind_speed_u_10m:ms',\n",
    "       'wind_speed_v_10m:ms', 'wind_speed_w_1000hPa:ms']]\n",
    "\n",
    "B = B[['pv_measurement', 'absolute_humidity_2m:gm3', 'air_density_2m:kgm3',\n",
    "         'clear_sky_energy_1h:J', 'clear_sky_rad:W', 'dew_or_rime:idx',\n",
    "         'dew_point_2m:K', 'diffuse_rad:W', 'diffuse_rad_1h:J', 'direct_rad:W',\n",
    "         'direct_rad_1h:J', 'effective_cloud_cover:p', 'elevation:m',\n",
    "         'fresh_snow_12h:cm', 'fresh_snow_1h:cm', 'fresh_snow_24h:cm',\n",
    "         'fresh_snow_3h:cm', 'fresh_snow_6h:cm', 'is_day:idx',\n",
    "         'is_in_shadow:idx', 'msl_pressure:hPa', 'precip_5min:mm',\n",
    "         'precip_type_5min:idx', 'pressure_100m:hPa', 'pressure_50m:hPa',\n",
    "         'prob_rime:p', 'rain_water:kgm2', 'relative_humidity_1000hPa:p',\n",
    "         'sfc_pressure:hPa', 'snow_depth:cm', 'snow_melt_10min:mm',\n",
    "         'snow_water:kgm2', 'sun_azimuth:d', 'sun_elevation:d',\n",
    "         'super_cooled_liquid_water:kgm2', 't_1000hPa:K', 'total_cloud_cover:p',\n",
    "         'visibility:m', 'wind_speed_10m:ms', 'wind_speed_u_10m:ms',\n",
    "         'wind_speed_v_10m:ms', 'wind_speed_w_1000hPa:ms']]\n",
    "\n",
    "C = C[['pv_measurement', 'absolute_humidity_2m:gm3', 'air_density_2m:kgm3',\n",
    "         'clear_sky_energy_1h:J', 'clear_sky_rad:W', 'dew_or_rime:idx',\n",
    "         'dew_point_2m:K', 'diffuse_rad:W', 'diffuse_rad_1h:J', 'direct_rad:W',\n",
    "         'direct_rad_1h:J', 'effective_cloud_cover:p', 'elevation:m',\n",
    "         'fresh_snow_12h:cm', 'fresh_snow_1h:cm', 'fresh_snow_24h:cm',\n",
    "         'fresh_snow_3h:cm', 'fresh_snow_6h:cm', 'is_day:idx',\n",
    "         'is_in_shadow:idx', 'msl_pressure:hPa', 'precip_5min:mm',\n",
    "         'precip_type_5min:idx', 'pressure_100m:hPa', 'pressure_50m:hPa',\n",
    "         'prob_rime:p', 'rain_water:kgm2', 'relative_humidity_1000hPa:p',\n",
    "         'sfc_pressure:hPa', 'snow_depth:cm', 'snow_melt_10min:mm',\n",
    "         'snow_water:kgm2', 'sun_azimuth:d', 'sun_elevation:d',\n",
    "         'super_cooled_liquid_water:kgm2', 't_1000hPa:K', 'total_cloud_cover:p',\n",
    "         'visibility:m', 'wind_speed_10m:ms', 'wind_speed_u_10m:ms',\n",
    "         'wind_speed_v_10m:ms', 'wind_speed_w_1000hPa:ms']]\n",
    "\n",
    "A.columns = [col.replace('[', '').replace(']', '').replace(',', '').replace('{', '').replace('}', '').replace('(', '').replace(')', '').replace('\"', '').replace(\"'\", '').replace(':', '').replace('\\\\', '') for col in A.columns]\n",
    "B.columns = [col.replace('[', '').replace(']', '').replace(',', '').replace('{', '').replace('}', '').replace('(', '').replace(')', '').replace('\"', '').replace(\"'\", '').replace(':', '').replace('\\\\', '') for col in B.columns]\n",
    "C.columns = [col.replace('[', '').replace(']', '').replace(',', '').replace('{', '').replace('}', '').replace('(', '').replace(')', '').replace('\"', '').replace(\"'\", '').replace(':', '').replace('\\\\', '') for col in C.columns]\n",
    "\n",
    "# Data splits for submissions\n",
    "X_A = A.drop(columns='pv_measurement')\n",
    "y_A = A['pv_measurement']\n",
    "X_B = B.drop(columns='pv_measurement')\n",
    "y_B = B['pv_measurement']\n",
    "X_C = C.drop(columns='pv_measurement')\n",
    "y_C = C['pv_measurement']"
   ]
  },
  {
   "cell_type": "code",
   "execution_count": 7,
   "metadata": {},
   "outputs": [],
   "source": [
    "obs_A.columns = [col.replace('[', '').replace(']', '').replace(',', '').replace('{', '').replace('}', '').replace('(', '').replace(')', '').replace('\"', '').replace(\"'\", '').replace(':', '').replace('\\\\', '') for col in obs_A.columns]\n",
    "est_A.columns = [col.replace('[', '').replace(']', '').replace(',', '').replace('{', '').replace('}', '').replace('(', '').replace(')', '').replace('\"', '').replace(\"'\", '').replace(':', '').replace('\\\\', '') for col in est_A.columns]\n",
    "test_A.columns = [col.replace('[', '').replace(']', '').replace(',', '').replace('{', '').replace('}', '').replace('(', '').replace(')', '').replace('\"', '').replace(\"'\", '').replace(':', '').replace('\\\\', '') for col in test_A.columns]\n",
    "\n",
    "obs_B.columns = [col.replace('[', '').replace(']', '').replace(',', '').replace('{', '').replace('}', '').replace('(', '').replace(')', '').replace('\"', '').replace(\"'\", '').replace(':', '').replace('\\\\', '') for col in obs_B.columns]\n",
    "est_B.columns = [col.replace('[', '').replace(']', '').replace(',', '').replace('{', '').replace('}', '').replace('(', '').replace(')', '').replace('\"', '').replace(\"'\", '').replace(':', '').replace('\\\\', '') for col in est_B.columns]\n",
    "test_B.columns = [col.replace('[', '').replace(']', '').replace(',', '').replace('{', '').replace('}', '').replace('(', '').replace(')', '').replace('\"', '').replace(\"'\", '').replace(':', '').replace('\\\\', '') for col in test_B.columns]\n",
    "\n",
    "obs_C.columns = [col.replace('[', '').replace(']', '').replace(',', '').replace('{', '').replace('}', '').replace('(', '').replace(')', '').replace('\"', '').replace(\"'\", '').replace(':', '').replace('\\\\', '') for col in obs_C.columns]\n",
    "est_C.columns = [col.replace('[', '').replace(']', '').replace(',', '').replace('{', '').replace('}', '').replace('(', '').replace(')', '').replace('\"', '').replace(\"'\", '').replace(':', '').replace('\\\\', '') for col in est_C.columns]\n",
    "test_C.columns = [col.replace('[', '').replace(']', '').replace(',', '').replace('{', '').replace('}', '').replace('(', '').replace(')', '').replace('\"', '').replace(\"'\", '').replace(':', '').replace('\\\\', '') for col in test_C.columns]\n",
    "\n",
    "# Value used in lightGBM\n",
    "X_train_A = obs_A.drop(columns='pv_measurement')\n",
    "y_train_A = obs_A['pv_measurement']\n",
    "X_test_A = est_A.drop(columns='pv_measurement')\n",
    "y_test_A = est_A['pv_measurement']\n",
    "\n",
    "X_train_B = obs_B.drop(columns='pv_measurement')\n",
    "y_train_B = obs_B['pv_measurement']\n",
    "X_test_B = est_B.drop(columns='pv_measurement')\n",
    "y_test_B = est_B['pv_measurement']\n",
    "\n",
    "X_train_C = obs_C.drop(columns='pv_measurement')\n",
    "y_train_C = obs_C['pv_measurement']\n",
    "X_test_C = est_C.drop(columns='pv_measurement')\n",
    "y_test_C = est_C['pv_measurement']\n",
    "\n",
    "# Concatinate\n",
    "A = pd.concat([obs_A, est_A])\n",
    "B = pd.concat([obs_B, est_B])\n",
    "C = pd.concat([obs_C, est_C])\n",
    "\n",
    "# Data splits for submissions\n",
    "X_A = A.drop(columns='pv_measurement')\n",
    "y_A = A['pv_measurement']\n",
    "X_B = B.drop(columns='pv_measurement')\n",
    "y_B = B['pv_measurement']\n",
    "X_C = C.drop(columns='pv_measurement')\n",
    "y_C = C['pv_measurement']\n",
    "\n"
   ]
  },
  {
   "cell_type": "code",
   "execution_count": null,
   "metadata": {},
   "outputs": [],
   "source": [
    "\n",
    "train_data_A = lgb.Dataset(X_train_A, label=y_train_A)\n",
    "val_data_A = lgb.Dataset(X_test_A, label=y_test_A, reference=train_data_A)\n",
    "\n",
    "train_data_B = lgb.Dataset(X_train_B, label=y_train_B)\n",
    "val_data_B = lgb.Dataset(X_test_B, label=y_test_B, reference=train_data_B)\n",
    "\n",
    "train_data_C = lgb.Dataset(X_train_C, label=y_train_C)\n",
    "val_data_C = lgb.Dataset(X_test_C, label=y_test_C, reference=train_data_C)\n",
    "\n",
    "# Set the parameters for the model\n",
    "params = {\n",
    "    'boosting_type': 'dart',\n",
    "    'objective': 'regression',\n",
    "    'metric': 'mae',\n",
    "    'num_leaves': 100,\n",
    "    'learning_rate': 0.05,\n",
    "    'verbose': 1\n",
    "}"
   ]
  },
  {
   "cell_type": "code",
   "execution_count": null,
   "metadata": {},
   "outputs": [],
   "source": [
    "# Train the model (evaluation)\n",
    "gbm_A = lgb.train(params,\n",
    "                train_data_A,\n",
    "                num_boost_round=500,\n",
    "                valid_sets=[val_data_A],\n",
    "                early_stopping_rounds=50,\n",
    "                verbose_eval=50)\n",
    "\n",
    "gbm_B = lgb.train(params,\n",
    "                train_data_B,\n",
    "                num_boost_round=500,\n",
    "                valid_sets=[val_data_B],\n",
    "                early_stopping_rounds=50,\n",
    "                verbose_eval=50)\n",
    "\n",
    "gbm_C = lgb.train(params,\n",
    "                train_data_C,\n",
    "                num_boost_round=500,\n",
    "                valid_sets=[val_data_C],\n",
    "                early_stopping_rounds=50,\n",
    "                verbose_eval=50)"
   ]
  },
  {
   "cell_type": "code",
   "execution_count": 6,
   "metadata": {},
   "outputs": [
    {
     "name": "stderr",
     "output_type": "stream",
     "text": [
      "/Users/mathiasotnes/anaconda3/envs/autogluon/lib/python3.8/site-packages/lightgbm/engine.py:181: UserWarning: 'early_stopping_rounds' argument is deprecated and will be removed in a future release of LightGBM. Pass 'early_stopping()' callback via 'callbacks' argument instead.\n",
      "  _log_warning(\"'early_stopping_rounds' argument is deprecated and will be removed in a future release of LightGBM. \"\n",
      "/Users/mathiasotnes/anaconda3/envs/autogluon/lib/python3.8/site-packages/lightgbm/engine.py:239: UserWarning: 'verbose_eval' argument is deprecated and will be removed in a future release of LightGBM. Pass 'log_evaluation()' callback via 'callbacks' argument instead.\n",
      "  _log_warning(\"'verbose_eval' argument is deprecated and will be removed in a future release of LightGBM. \"\n",
      "/Users/mathiasotnes/anaconda3/envs/autogluon/lib/python3.8/site-packages/lightgbm/callback.py:223: UserWarning: Early stopping is not available in dart mode\n",
      "  _log_warning('Early stopping is not available in dart mode')\n"
     ]
    },
    {
     "name": "stdout",
     "output_type": "stream",
     "text": [
      "[LightGBM] [Warning] Auto-choosing row-wise multi-threading, the overhead of testing was 0.003885 seconds.\n",
      "You can set `force_row_wise=true` to remove the overhead.\n",
      "And if memory is not enough, you can set `force_col_wise=true`.\n",
      "[LightGBM] [Info] Total Bins 7353\n",
      "[LightGBM] [Info] Number of data points in the train set: 34085, number of used features: 40\n",
      "[LightGBM] [Info] Start training from score 630.594707\n"
     ]
    },
    {
     "name": "stderr",
     "output_type": "stream",
     "text": [
      "/Users/mathiasotnes/anaconda3/envs/autogluon/lib/python3.8/site-packages/lightgbm/engine.py:181: UserWarning: 'early_stopping_rounds' argument is deprecated and will be removed in a future release of LightGBM. Pass 'early_stopping()' callback via 'callbacks' argument instead.\n",
      "  _log_warning(\"'early_stopping_rounds' argument is deprecated and will be removed in a future release of LightGBM. \"\n",
      "/Users/mathiasotnes/anaconda3/envs/autogluon/lib/python3.8/site-packages/lightgbm/engine.py:239: UserWarning: 'verbose_eval' argument is deprecated and will be removed in a future release of LightGBM. Pass 'log_evaluation()' callback via 'callbacks' argument instead.\n",
      "  _log_warning(\"'verbose_eval' argument is deprecated and will be removed in a future release of LightGBM. \"\n",
      "/Users/mathiasotnes/anaconda3/envs/autogluon/lib/python3.8/site-packages/lightgbm/callback.py:223: UserWarning: Early stopping is not available in dart mode\n",
      "  _log_warning('Early stopping is not available in dart mode')\n"
     ]
    },
    {
     "name": "stdout",
     "output_type": "stream",
     "text": [
      "[LightGBM] [Warning] Auto-choosing row-wise multi-threading, the overhead of testing was 0.003289 seconds.\n",
      "You can set `force_row_wise=true` to remove the overhead.\n",
      "And if memory is not enough, you can set `force_col_wise=true`.\n",
      "[LightGBM] [Info] Total Bins 7359\n",
      "[LightGBM] [Info] Number of data points in the train set: 32843, number of used features: 40\n",
      "[LightGBM] [Info] Start training from score 96.827726\n"
     ]
    },
    {
     "name": "stderr",
     "output_type": "stream",
     "text": [
      "/Users/mathiasotnes/anaconda3/envs/autogluon/lib/python3.8/site-packages/lightgbm/engine.py:181: UserWarning: 'early_stopping_rounds' argument is deprecated and will be removed in a future release of LightGBM. Pass 'early_stopping()' callback via 'callbacks' argument instead.\n",
      "  _log_warning(\"'early_stopping_rounds' argument is deprecated and will be removed in a future release of LightGBM. \"\n",
      "/Users/mathiasotnes/anaconda3/envs/autogluon/lib/python3.8/site-packages/lightgbm/engine.py:239: UserWarning: 'verbose_eval' argument is deprecated and will be removed in a future release of LightGBM. Pass 'log_evaluation()' callback via 'callbacks' argument instead.\n",
      "  _log_warning(\"'verbose_eval' argument is deprecated and will be removed in a future release of LightGBM. \"\n",
      "/Users/mathiasotnes/anaconda3/envs/autogluon/lib/python3.8/site-packages/lightgbm/callback.py:223: UserWarning: Early stopping is not available in dart mode\n",
      "  _log_warning('Early stopping is not available in dart mode')\n"
     ]
    },
    {
     "name": "stdout",
     "output_type": "stream",
     "text": [
      "[LightGBM] [Warning] Auto-choosing row-wise multi-threading, the overhead of testing was 0.005126 seconds.\n",
      "You can set `force_row_wise=true` to remove the overhead.\n",
      "And if memory is not enough, you can set `force_col_wise=true`.\n",
      "[LightGBM] [Info] Total Bins 7688\n",
      "[LightGBM] [Info] Number of data points in the train set: 26095, number of used features: 41\n",
      "[LightGBM] [Info] Start training from score 77.631060\n"
     ]
    }
   ],
   "source": [
    "# Train the model (submission)\n",
    "\n",
    "params = {\n",
    "    'boosting_type': 'dart',\n",
    "    'objective': 'regression',\n",
    "    'metric': 'mae',\n",
    "    'num_leaves': 100,\n",
    "    'learning_rate': 0.05,\n",
    "    'verbose': 1\n",
    "}\n",
    "\n",
    "A = lgb.Dataset(X_A, label=y_A)\n",
    "B = lgb.Dataset(X_B, label=y_B)\n",
    "C = lgb.Dataset(X_C, label=y_C)\n",
    "\n",
    "\n",
    "gbm_A = lgb.train(params,\n",
    "                A,\n",
    "                num_boost_round=350,\n",
    "                early_stopping_rounds=50,\n",
    "                verbose_eval=50)\n",
    "\n",
    "gbm_B = lgb.train(params,\n",
    "                B,\n",
    "                num_boost_round=350,\n",
    "                early_stopping_rounds=50,\n",
    "                verbose_eval=50)\n",
    "\n",
    "gbm_C = lgb.train(params,\n",
    "                C,\n",
    "                num_boost_round=350,\n",
    "                early_stopping_rounds=50,\n",
    "                verbose_eval=50)"
   ]
  },
  {
   "cell_type": "code",
   "execution_count": null,
   "metadata": {},
   "outputs": [],
   "source": [
    "# Evaluate the model\n",
    "y_pred_A = gbm_A.predict(X_test_A, num_iteration=gbm_A.best_iteration)\n",
    "y_pred_B = gbm_B.predict(X_test_B, num_iteration=gbm_B.best_iteration)\n",
    "y_pred_C = gbm_C.predict(X_test_C, num_iteration=gbm_C.best_iteration)\n",
    "\n",
    "print('MAE A:', mean_absolute_error(y_test_A, y_pred_A))\n",
    "print('MAE B:', mean_absolute_error(y_test_B, y_pred_B))\n",
    "print('MAE C:', mean_absolute_error(y_test_C, y_pred_C))"
   ]
  },
  {
   "cell_type": "code",
   "execution_count": null,
   "metadata": {},
   "outputs": [],
   "source": [
    "y_pred_A_test = gbm_A.predict(X_test_A)\n",
    "\n",
    "# Plotting the actual vs predicted values\n",
    "plt.figure(figsize=(10,5))\n",
    "plt.scatter(range(len(y_test_A)), y_test_A, color='blue', label='Actual')\n",
    "plt.scatter(range(len(y_pred_A_test)), y_pred_A_test, color='red', label='Predicted', alpha=0.5)\n",
    "plt.title('Actual vs Predicted Values')\n",
    "plt.xlabel('Test Sample Index')\n",
    "plt.ylabel('Target Value')\n",
    "plt.legend()\n",
    "plt.show()"
   ]
  },
  {
   "cell_type": "code",
   "execution_count": null,
   "metadata": {},
   "outputs": [],
   "source": [
    "test_A.describe()"
   ]
  },
  {
   "cell_type": "code",
   "execution_count": 8,
   "metadata": {},
   "outputs": [
    {
     "name": "stdout",
     "output_type": "stream",
     "text": [
      "Submission saved to LGBM_submission.csv\n"
     ]
    }
   ],
   "source": [
    "# Create submission\n",
    "\n",
    "output_file = 'LGBM_submission.csv'\n",
    "\n",
    "pred_A = gbm_A.predict(test_A)\n",
    "pred_B = gbm_B.predict(test_B)\n",
    "pred_C = gbm_C.predict(test_C)\n",
    "\n",
    "pred_A = np.clip(pred_A, 0, None)\n",
    "pred_B = np.clip(pred_B, 0, None)\n",
    "pred_C = np.clip(pred_C, 0, None)\n",
    "\n",
    "# Concatenate predictions\n",
    "predictions = np.concatenate([pred_A, pred_B, pred_C])\n",
    "\n",
    "# Create an id array\n",
    "ids = np.arange(0, len(predictions))\n",
    "\n",
    "# Create a DataFrame\n",
    "df = pd.DataFrame({\n",
    "    'id': ids,\n",
    "    'prediction': predictions\n",
    "})\n",
    "\n",
    "# Save to CSV\n",
    "df.to_csv(output_file, index=False)\n",
    "print(f\"Submission saved to {output_file}\")"
   ]
  },
  {
   "cell_type": "code",
   "execution_count": null,
   "metadata": {},
   "outputs": [],
   "source": [
    "gbm_A.params"
   ]
  }
 ],
 "metadata": {
  "kernelspec": {
   "display_name": "autogluon",
   "language": "python",
   "name": "python3"
  },
  "language_info": {
   "codemirror_mode": {
    "name": "ipython",
    "version": 3
   },
   "file_extension": ".py",
   "mimetype": "text/x-python",
   "name": "python",
   "nbconvert_exporter": "python",
   "pygments_lexer": "ipython3",
   "version": "3.8.18"
  }
 },
 "nbformat": 4,
 "nbformat_minor": 2
}
