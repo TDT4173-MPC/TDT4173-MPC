{
 "cells": [
  {
   "cell_type": "code",
   "execution_count": null,
   "metadata": {},
   "outputs": [],
   "source": [
    "import pandas as pd\n",
    "import numpy as np\n",
    "from sklearn.model_selection import train_test_split\n",
    "from sklearn.metrics import mean_squared_error, mean_absolute_error\n",
    "from matplotlib import pyplot as plt\n",
    "import seaborn as sns\n",
    "from sklearn.model_selection import train_test_split"
   ]
  },
  {
   "cell_type": "code",
   "execution_count": null,
   "metadata": {},
   "outputs": [],
   "source": [
    "# Read in the data\n",
    "data_path = '../../preprocessing/data'\n",
    "\n",
    "# Import data\n",
    "obs_A = pd.read_parquet('../../preprocessing/data/obs_A.parquet')\n",
    "obs_B = pd.read_parquet('../../preprocessing/data/obs_B.parquet')\n",
    "obs_C = pd.read_parquet('../../preprocessing/data/obs_C.parquet')\n",
    "est_A = pd.read_parquet('../../preprocessing/data/est_A.parquet')\n",
    "est_B = pd.read_parquet('../../preprocessing/data/est_B.parquet')\n",
    "est_C = pd.read_parquet('../../preprocessing/data/est_C.parquet')\n",
    "test_A = pd.read_parquet('../../preprocessing/data/test_A.parquet')\n",
    "test_B = pd.read_parquet('../../preprocessing/data/test_B.parquet')\n",
    "test_C = pd.read_parquet('../../preprocessing/data/test_C.parquet')\n",
    "# Columns in A but not in test_A\n",
    "\n",
    "\n",
    "test_A = test_A.drop\n",
    "test_B = test_B.drop\n",
    "test_C = test_C.drop\n",
    "\n",
    "\n",
    "\n",
    "\n",
    "A = pd.concat([obs_A, est_A])\n",
    "B = pd.concat([obs_B, est_B])\n",
    "C = pd.concat([obs_C, est_C])"
   ]
  },
  {
   "cell_type": "code",
   "execution_count": null,
   "metadata": {},
   "outputs": [],
   "source": [
    "import numpy as np\n",
    "from sklearn.model_selection import train_test_split\n",
    "from sklearn.metrics import mean_squared_error\n",
    "\n",
    "# Assuming you have the dataset A loaded as a pandas DataFrame\n",
    "X_A = A.drop(columns=['pv_measurement'])\n",
    "y_A = A['pv_measurement']\n",
    "\n",
    "X_train_A, X_test_A, y_train_A, y_test_A = train_test_split(X_A, y_A, test_size=0.2, shuffle=False)\n",
    "\n",
    "\n",
    "lgb_model = LGBModel(path=\"path_to_save_model\", name=\"LightGBM_BAG_L2\", random_state=3)\n",
    "\n",
    "lgb_model.fit(X_train_A, y_train_A)\n",
    "\n",
    "y_pred_lgb = lgb_model.predict(X_test_A)\n",
    "\n",
    "predictions = [y_pred_lgb, ...]  # add other model predictions here\n",
    "ensemble_predictions = np.average(predictions, axis=0, weights=[0.2, ...])  # example weights\n",
    "\n",
    "# Evaluate ensemble predictions\n",
    "ensemble_error = mean_squared_error(y_test_A, ensemble_predictions)\n"
   ]
  }
 ],
 "metadata": {
  "language_info": {
   "name": "python"
  }
 },
 "nbformat": 4,
 "nbformat_minor": 2
}
